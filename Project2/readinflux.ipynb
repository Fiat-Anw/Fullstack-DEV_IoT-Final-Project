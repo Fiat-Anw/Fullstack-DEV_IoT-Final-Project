{
 "cells": [
  {
   "cell_type": "code",
   "execution_count": null,
   "metadata": {},
   "outputs": [],
   "source": [
    "\"\"\"\n",
    "CommandCenter File\n",
    "read from influx and publish to mqtt broker\n",
    "\"\"\"\n",
    "\n",
    "# Importing relevant modules\n",
    "import os\n",
    "from dotenv import load_dotenv\n",
    "from influxdb_client import InfluxDBClient, Point, Dialect\n",
    "from influxdb_client.client.write_api import ASYNCHRONOUS\n",
    "import paho.mqtt.client as mqtt\n",
    "import time\n",
    "import json\n",
    "import requests\n",
    "import pandas as pd\n",
    "\n",
    "# Load environment variables from \".env\"\n",
    "load_dotenv()\n",
    "\n",
    "# InfluxDB config\n",
    "BUCKET = 'fullstack-influxdb' #  bucket is a named location where time series data is stored.\n",
    "url = 'https://iot-group2-service1.iotcloudserve.net/'\n",
    "token ='Dwj0HPIYScc1zvkB0zHpjxIVIssU_z_-unniio7sOcZl135FZ40ONj9ZX6jgiBWqkwpOQegRAL21Ix1z86SBJw=='\n",
    "org = 'Chulalongkorn'\n",
    "print(\"connecting to\",url)\n",
    "\n",
    "client = InfluxDBClient(\n",
    "\n",
    "    url= url,\n",
    "    token= token,\n",
    "    org= 'Chulalongkorn'\n",
    ")\n",
    "write_api = client.write_api()\n",
    "query_api = client.query_api()\n",
    "\n",
    "#\"temp_sht4x\": 34.64,\"humid_sht4x\": 36.80,\"temp_bmp280\": 35.90,\"pressure_bmp280\": 1006.34}\n",
    "\n",
    "\n",
    "query2 = 'from(bucket: \"fullstack-influxdb\")\\\n",
    "    |> range(start: -1h) \\\n",
    "    |> filter(fn: (r) => r._measurement == \"sensor_data\")\\\n",
    "    |> filter(fn: (r) => r._field == \"humid_sht4x\" or r._field == \"pressure_bmp280\" or r._field == \"temp_bmp280\" or r._field == \"temp_sht4x\")\\\n",
    "    |> pivot(rowKey: [\"_time\"], columnKey: [\"_field\"], valueColumn: \"_value\")'\n",
    "\n",
    "\n",
    "csv_result = query_api.query_csv(query2,\n",
    "                                 dialect=Dialect(header=False, delimiter=\",\", comment_prefix=\"#\", annotations=[],\n",
    "                                                 date_time_format=\"RFC3339\"))\n",
    "\n",
    "\n",
    "#csv_result =  query_api.query_csv(query2)\n",
    "df1 = pd.DataFrame(csv_result)\n",
    "print(\"Successfully convert to DataFrame\")\n",
    "print(df1.iloc[:-5])\n",
    "#df.to_csv('RaspberryPi/CommandCenter/12_5_12_50.csv', index=False)\n",
    "\n",
    "client.close()\n"
   ]
  },
  {
   "cell_type": "code",
   "execution_count": 1,
   "metadata": {},
   "outputs": [
    {
     "ename": "NameError",
     "evalue": "name 'pd' is not defined",
     "output_type": "error",
     "traceback": [
      "\u001b[1;31m---------------------------------------------------------------------------\u001b[0m",
      "\u001b[1;31mNameError\u001b[0m                                 Traceback (most recent call last)",
      "Cell \u001b[1;32mIn[1], line 1\u001b[0m\n\u001b[1;32m----> 1\u001b[0m \u001b[43mpd\u001b[49m\u001b[38;5;241m.\u001b[39mset_option(\u001b[38;5;124m'\u001b[39m\u001b[38;5;124mdisplay.max_columns\u001b[39m\u001b[38;5;124m'\u001b[39m, \u001b[38;5;28;01mNone\u001b[39;00m)\n\u001b[0;32m      2\u001b[0m df1\u001b[38;5;241m.\u001b[39mhead()\n",
      "\u001b[1;31mNameError\u001b[0m: name 'pd' is not defined"
     ]
    }
   ],
   "source": [
    "# display all column\n",
    "pd.set_option('display.max_columns', None)\n",
    "df1.head()"
   ]
  },
  {
   "cell_type": "code",
   "execution_count": null,
   "metadata": {},
   "outputs": [],
   "source": [
    "# drop column\n",
    "columns_to_keep = [5, 7, 8, 9, 10]\n",
    "df2 = df1[df1.columns[columns_to_keep]]\n",
    "df2"
   ]
  },
  {
   "cell_type": "code",
   "execution_count": null,
   "metadata": {},
   "outputs": [],
   "source": [
    "new_column_names = ['time', 'humid_sht4x', 'pressure_bmp280', 'temp_bmp280', 'temp_sht4x']\n",
    "\n",
    "# Rename the columns\n",
    "df3 = df2.rename(columns=dict(zip(df2.columns, new_column_names)), inplace=False)\n",
    "df3"
   ]
  },
  {
   "cell_type": "code",
   "execution_count": null,
   "metadata": {},
   "outputs": [],
   "source": [
    "# Convert 'time' column to datetime format\n",
    "df3['time'] = pd.to_datetime(df3['time'])\n",
    "\n",
    "# Format 'time' column as desired\n",
    "df3['time'] = df3['time'].dt.strftime('%Y/%m/%d %H:%M:%S')\n",
    "df3"
   ]
  }
 ],
 "metadata": {
  "kernelspec": {
   "display_name": "Python 3",
   "language": "python",
   "name": "python3"
  },
  "language_info": {
   "codemirror_mode": {
    "name": "ipython",
    "version": 3
   },
   "file_extension": ".py",
   "mimetype": "text/x-python",
   "name": "python",
   "nbconvert_exporter": "python",
   "pygments_lexer": "ipython3",
   "version": "3.12.1"
  }
 },
 "nbformat": 4,
 "nbformat_minor": 2
}
